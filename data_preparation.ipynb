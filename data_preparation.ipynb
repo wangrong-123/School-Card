{
 "cells": [
  {
   "cell_type": "code",
   "execution_count": 1,
   "metadata": {},
   "outputs": [],
   "source": [
    "import numpy as np\n",
    "import pandas as pd\n",
    "import matplotlib.pyplot as plt\n",
    "%matplotlib inline"
   ]
  },
  {
   "cell_type": "code",
   "execution_count": 2,
   "metadata": {},
   "outputs": [
    {
     "data": {
      "text/plain": [
       "Index           0\n",
       "CardNo          0\n",
       "Sex             0\n",
       "Major           0\n",
       "AccessCardNo    0\n",
       "dtype: int64"
      ]
     },
     "execution_count": 2,
     "metadata": {},
     "output_type": "execute_result"
    }
   ],
   "source": [
    "##Read the data1 file\n",
    "data1 = pd.read_csv('../data/data1.csv',encoding = 'gbk')\n",
    "##View descriptive statistics\n",
    "data1.describe()\n",
    "##Look at the data1 data type\n",
    "data1.dtypes\n",
    "##The statistical null values\n",
    "data1.isnull().sum()"
   ]
  },
  {
   "cell_type": "code",
   "execution_count": 3,
   "metadata": {},
   "outputs": [
    {
     "data": {
      "text/plain": [
       "Index          int64\n",
       "CardNo         int64\n",
       "PeoNo          int64\n",
       "Date          object\n",
       "Money        float64\n",
       "FundMoney    float64\n",
       "Surplus      float64\n",
       "CardCount      int64\n",
       "Type          object\n",
       "TermNo         int64\n",
       "TermSerNo     object\n",
       "conOperNo    float64\n",
       "OperNo         int64\n",
       "Dept          object\n",
       "dtype: object"
      ]
     },
     "execution_count": 3,
     "metadata": {},
     "output_type": "execute_result"
    }
   ],
   "source": [
    "##Read the data2 file\n",
    "data2 = pd.read_csv('../data/data2.csv',encoding = 'gbk')\n",
    "\n",
    "##Look at the data2 data type\n",
    "data2.dtypes"
   ]
  },
  {
   "cell_type": "code",
   "execution_count": 4,
   "metadata": {},
   "outputs": [
    {
     "data": {
      "text/html": [
       "<div>\n",
       "<style scoped>\n",
       "    .dataframe tbody tr th:only-of-type {\n",
       "        vertical-align: middle;\n",
       "    }\n",
       "\n",
       "    .dataframe tbody tr th {\n",
       "        vertical-align: top;\n",
       "    }\n",
       "\n",
       "    .dataframe thead th {\n",
       "        text-align: right;\n",
       "    }\n",
       "</style>\n",
       "<table border=\"1\" class=\"dataframe\">\n",
       "  <thead>\n",
       "    <tr style=\"text-align: right;\">\n",
       "      <th></th>\n",
       "      <th>Index</th>\n",
       "      <th>CardNo</th>\n",
       "      <th>PeoNo</th>\n",
       "      <th>Date</th>\n",
       "      <th>Money</th>\n",
       "      <th>FundMoney</th>\n",
       "      <th>Surplus</th>\n",
       "      <th>CardCount</th>\n",
       "      <th>Type</th>\n",
       "      <th>TermNo</th>\n",
       "      <th>TermSerNo</th>\n",
       "      <th>conOperNo</th>\n",
       "      <th>OperNo</th>\n",
       "      <th>Dept</th>\n",
       "    </tr>\n",
       "  </thead>\n",
       "  <tbody>\n",
       "    <tr>\n",
       "      <td>0</td>\n",
       "      <td>117342773</td>\n",
       "      <td>181316</td>\n",
       "      <td>20181316</td>\n",
       "      <td>2019/4/20 20:17</td>\n",
       "      <td>3.0</td>\n",
       "      <td>0.0</td>\n",
       "      <td>186.1</td>\n",
       "      <td>818</td>\n",
       "      <td>消费</td>\n",
       "      <td>49</td>\n",
       "      <td>NaN</td>\n",
       "      <td>NaN</td>\n",
       "      <td>235</td>\n",
       "      <td>第一食堂</td>\n",
       "    </tr>\n",
       "    <tr>\n",
       "      <td>1</td>\n",
       "      <td>117344766</td>\n",
       "      <td>181316</td>\n",
       "      <td>20181316</td>\n",
       "      <td>2019/4/20 8:47</td>\n",
       "      <td>0.5</td>\n",
       "      <td>0.0</td>\n",
       "      <td>199.5</td>\n",
       "      <td>814</td>\n",
       "      <td>消费</td>\n",
       "      <td>63</td>\n",
       "      <td>NaN</td>\n",
       "      <td>NaN</td>\n",
       "      <td>27</td>\n",
       "      <td>第二食堂</td>\n",
       "    </tr>\n",
       "    <tr>\n",
       "      <td>2</td>\n",
       "      <td>117346258</td>\n",
       "      <td>181316</td>\n",
       "      <td>20181316</td>\n",
       "      <td>2019/4/22 7:27</td>\n",
       "      <td>0.5</td>\n",
       "      <td>0.0</td>\n",
       "      <td>183.1</td>\n",
       "      <td>820</td>\n",
       "      <td>消费</td>\n",
       "      <td>63</td>\n",
       "      <td>NaN</td>\n",
       "      <td>NaN</td>\n",
       "      <td>27</td>\n",
       "      <td>第二食堂</td>\n",
       "    </tr>\n",
       "    <tr>\n",
       "      <td>3</td>\n",
       "      <td>117308066</td>\n",
       "      <td>181317</td>\n",
       "      <td>20181317</td>\n",
       "      <td>2019/4/21 7:46</td>\n",
       "      <td>3.5</td>\n",
       "      <td>0.0</td>\n",
       "      <td>50.2</td>\n",
       "      <td>211</td>\n",
       "      <td>消费</td>\n",
       "      <td>196</td>\n",
       "      <td>NaN</td>\n",
       "      <td>NaN</td>\n",
       "      <td>133</td>\n",
       "      <td>好利来食品店</td>\n",
       "    </tr>\n",
       "    <tr>\n",
       "      <td>4</td>\n",
       "      <td>117309001</td>\n",
       "      <td>181317</td>\n",
       "      <td>20181317</td>\n",
       "      <td>2019/4/19 22:31</td>\n",
       "      <td>2.5</td>\n",
       "      <td>0.0</td>\n",
       "      <td>61.7</td>\n",
       "      <td>209</td>\n",
       "      <td>消费</td>\n",
       "      <td>146</td>\n",
       "      <td>NaN</td>\n",
       "      <td>NaN</td>\n",
       "      <td>48</td>\n",
       "      <td>好利来食品店</td>\n",
       "    </tr>\n",
       "  </tbody>\n",
       "</table>\n",
       "</div>"
      ],
      "text/plain": [
       "       Index  CardNo     PeoNo             Date  Money  FundMoney  Surplus  \\\n",
       "0  117342773  181316  20181316  2019/4/20 20:17    3.0        0.0    186.1   \n",
       "1  117344766  181316  20181316   2019/4/20 8:47    0.5        0.0    199.5   \n",
       "2  117346258  181316  20181316   2019/4/22 7:27    0.5        0.0    183.1   \n",
       "3  117308066  181317  20181317   2019/4/21 7:46    3.5        0.0     50.2   \n",
       "4  117309001  181317  20181317  2019/4/19 22:31    2.5        0.0     61.7   \n",
       "\n",
       "   CardCount Type  TermNo TermSerNo  conOperNo  OperNo    Dept  \n",
       "0        818   消费      49       NaN        NaN     235    第一食堂  \n",
       "1        814   消费      63       NaN        NaN      27    第二食堂  \n",
       "2        820   消费      63       NaN        NaN      27    第二食堂  \n",
       "3        211   消费     196       NaN        NaN     133  好利来食品店  \n",
       "4        209   消费     146       NaN        NaN      48  好利来食品店  "
      ]
     },
     "execution_count": 4,
     "metadata": {},
     "output_type": "execute_result"
    }
   ],
   "source": [
    "##Look at the first five lines of data2\n",
    "data2.head()"
   ]
  },
  {
   "cell_type": "code",
   "execution_count": 5,
   "metadata": {},
   "outputs": [
    {
     "data": {
      "text/plain": [
       "Index             0\n",
       "CardNo            0\n",
       "PeoNo             0\n",
       "Date              0\n",
       "Money             0\n",
       "FundMoney         0\n",
       "Surplus           0\n",
       "CardCount         0\n",
       "Type              0\n",
       "TermNo            0\n",
       "TermSerNo    512106\n",
       "conOperNo    519116\n",
       "OperNo            0\n",
       "Dept              0\n",
       "dtype: int64"
      ]
     },
     "execution_count": 5,
     "metadata": {},
     "output_type": "execute_result"
    }
   ],
   "source": [
    "##The statistical null values\n",
    "data2.isnull().sum()"
   ]
  },
  {
   "cell_type": "code",
   "execution_count": 6,
   "metadata": {},
   "outputs": [],
   "source": [
    "##Modify Date as a time series\n",
    "data2['Date']=pd.to_datetime(data2['Date'])"
   ]
  },
  {
   "cell_type": "code",
   "execution_count": 7,
   "metadata": {},
   "outputs": [
    {
     "data": {
      "text/plain": [
       "Index                 int64\n",
       "CardNo                int64\n",
       "PeoNo                 int64\n",
       "Date         datetime64[ns]\n",
       "Money               float64\n",
       "FundMoney           float64\n",
       "Surplus             float64\n",
       "CardCount             int64\n",
       "Type                 object\n",
       "TermNo                int64\n",
       "TermSerNo            object\n",
       "conOperNo           float64\n",
       "OperNo                int64\n",
       "Dept                 object\n",
       "dtype: object"
      ]
     },
     "execution_count": 7,
     "metadata": {},
     "output_type": "execute_result"
    }
   ],
   "source": [
    "##Check the data2 data type to see if it was modified successfully\n",
    "data2.dtypes"
   ]
  },
  {
   "cell_type": "code",
   "execution_count": 8,
   "metadata": {},
   "outputs": [
    {
     "data": {
      "text/html": [
       "<div>\n",
       "<style scoped>\n",
       "    .dataframe tbody tr th:only-of-type {\n",
       "        vertical-align: middle;\n",
       "    }\n",
       "\n",
       "    .dataframe tbody tr th {\n",
       "        vertical-align: top;\n",
       "    }\n",
       "\n",
       "    .dataframe thead th {\n",
       "        text-align: right;\n",
       "    }\n",
       "</style>\n",
       "<table border=\"1\" class=\"dataframe\">\n",
       "  <thead>\n",
       "    <tr style=\"text-align: right;\">\n",
       "      <th></th>\n",
       "      <th>Index</th>\n",
       "      <th>CardNo</th>\n",
       "      <th>PeoNo</th>\n",
       "      <th>Date</th>\n",
       "      <th>Money</th>\n",
       "      <th>FundMoney</th>\n",
       "      <th>Surplus</th>\n",
       "      <th>CardCount</th>\n",
       "      <th>Type</th>\n",
       "      <th>TermNo</th>\n",
       "      <th>TermSerNo</th>\n",
       "      <th>conOperNo</th>\n",
       "      <th>OperNo</th>\n",
       "      <th>Dept</th>\n",
       "    </tr>\n",
       "  </thead>\n",
       "  <tbody>\n",
       "    <tr>\n",
       "      <td>0</td>\n",
       "      <td>117342773</td>\n",
       "      <td>181316</td>\n",
       "      <td>20181316</td>\n",
       "      <td>2019-04-20 20:17:00</td>\n",
       "      <td>3.0</td>\n",
       "      <td>0.0</td>\n",
       "      <td>186.1</td>\n",
       "      <td>818</td>\n",
       "      <td>消费</td>\n",
       "      <td>49</td>\n",
       "      <td>NaN</td>\n",
       "      <td>NaN</td>\n",
       "      <td>235</td>\n",
       "      <td>第一食堂</td>\n",
       "    </tr>\n",
       "    <tr>\n",
       "      <td>1</td>\n",
       "      <td>117344766</td>\n",
       "      <td>181316</td>\n",
       "      <td>20181316</td>\n",
       "      <td>2019-04-20 08:47:00</td>\n",
       "      <td>0.5</td>\n",
       "      <td>0.0</td>\n",
       "      <td>199.5</td>\n",
       "      <td>814</td>\n",
       "      <td>消费</td>\n",
       "      <td>63</td>\n",
       "      <td>NaN</td>\n",
       "      <td>NaN</td>\n",
       "      <td>27</td>\n",
       "      <td>第二食堂</td>\n",
       "    </tr>\n",
       "    <tr>\n",
       "      <td>2</td>\n",
       "      <td>117346258</td>\n",
       "      <td>181316</td>\n",
       "      <td>20181316</td>\n",
       "      <td>2019-04-22 07:27:00</td>\n",
       "      <td>0.5</td>\n",
       "      <td>0.0</td>\n",
       "      <td>183.1</td>\n",
       "      <td>820</td>\n",
       "      <td>消费</td>\n",
       "      <td>63</td>\n",
       "      <td>NaN</td>\n",
       "      <td>NaN</td>\n",
       "      <td>27</td>\n",
       "      <td>第二食堂</td>\n",
       "    </tr>\n",
       "    <tr>\n",
       "      <td>3</td>\n",
       "      <td>117308066</td>\n",
       "      <td>181317</td>\n",
       "      <td>20181317</td>\n",
       "      <td>2019-04-21 07:46:00</td>\n",
       "      <td>3.5</td>\n",
       "      <td>0.0</td>\n",
       "      <td>50.2</td>\n",
       "      <td>211</td>\n",
       "      <td>消费</td>\n",
       "      <td>196</td>\n",
       "      <td>NaN</td>\n",
       "      <td>NaN</td>\n",
       "      <td>133</td>\n",
       "      <td>好利来食品店</td>\n",
       "    </tr>\n",
       "    <tr>\n",
       "      <td>4</td>\n",
       "      <td>117309001</td>\n",
       "      <td>181317</td>\n",
       "      <td>20181317</td>\n",
       "      <td>2019-04-19 22:31:00</td>\n",
       "      <td>2.5</td>\n",
       "      <td>0.0</td>\n",
       "      <td>61.7</td>\n",
       "      <td>209</td>\n",
       "      <td>消费</td>\n",
       "      <td>146</td>\n",
       "      <td>NaN</td>\n",
       "      <td>NaN</td>\n",
       "      <td>48</td>\n",
       "      <td>好利来食品店</td>\n",
       "    </tr>\n",
       "  </tbody>\n",
       "</table>\n",
       "</div>"
      ],
      "text/plain": [
       "       Index  CardNo     PeoNo                Date  Money  FundMoney  Surplus  \\\n",
       "0  117342773  181316  20181316 2019-04-20 20:17:00    3.0        0.0    186.1   \n",
       "1  117344766  181316  20181316 2019-04-20 08:47:00    0.5        0.0    199.5   \n",
       "2  117346258  181316  20181316 2019-04-22 07:27:00    0.5        0.0    183.1   \n",
       "3  117308066  181317  20181317 2019-04-21 07:46:00    3.5        0.0     50.2   \n",
       "4  117309001  181317  20181317 2019-04-19 22:31:00    2.5        0.0     61.7   \n",
       "\n",
       "   CardCount Type  TermNo TermSerNo  conOperNo  OperNo    Dept  \n",
       "0        818   消费      49       NaN        NaN     235    第一食堂  \n",
       "1        814   消费      63       NaN        NaN      27    第二食堂  \n",
       "2        820   消费      63       NaN        NaN      27    第二食堂  \n",
       "3        211   消费     196       NaN        NaN     133  好利来食品店  \n",
       "4        209   消费     146       NaN        NaN      48  好利来食品店  "
      ]
     },
     "execution_count": 8,
     "metadata": {},
     "output_type": "execute_result"
    }
   ],
   "source": [
    "##Look at the first five lines of data2\n",
    "data2.head()"
   ]
  },
  {
   "cell_type": "code",
   "execution_count": 9,
   "metadata": {},
   "outputs": [],
   "source": [
    "##Delete the null columns\n",
    "data2 = data2.dropna(axis = 1,how='any')"
   ]
  },
  {
   "cell_type": "code",
   "execution_count": 10,
   "metadata": {},
   "outputs": [
    {
     "data": {
      "text/plain": [
       "Index        0\n",
       "CardNo       0\n",
       "PeoNo        0\n",
       "Date         0\n",
       "Money        0\n",
       "FundMoney    0\n",
       "Surplus      0\n",
       "CardCount    0\n",
       "Type         0\n",
       "TermNo       0\n",
       "OperNo       0\n",
       "Dept         0\n",
       "dtype: int64"
      ]
     },
     "execution_count": 10,
     "metadata": {},
     "output_type": "execute_result"
    }
   ],
   "source": [
    "##Continue to see if the null value was modified successfully\n",
    "data2.isnull().sum()"
   ]
  },
  {
   "cell_type": "code",
   "execution_count": 11,
   "metadata": {},
   "outputs": [
    {
     "data": {
      "text/html": [
       "<div>\n",
       "<style scoped>\n",
       "    .dataframe tbody tr th:only-of-type {\n",
       "        vertical-align: middle;\n",
       "    }\n",
       "\n",
       "    .dataframe tbody tr th {\n",
       "        vertical-align: top;\n",
       "    }\n",
       "\n",
       "    .dataframe thead th {\n",
       "        text-align: right;\n",
       "    }\n",
       "</style>\n",
       "<table border=\"1\" class=\"dataframe\">\n",
       "  <thead>\n",
       "    <tr style=\"text-align: right;\">\n",
       "      <th></th>\n",
       "      <th>Index</th>\n",
       "      <th>CardNo</th>\n",
       "      <th>PeoNo</th>\n",
       "      <th>Money</th>\n",
       "      <th>FundMoney</th>\n",
       "      <th>Surplus</th>\n",
       "      <th>CardCount</th>\n",
       "      <th>TermNo</th>\n",
       "      <th>OperNo</th>\n",
       "    </tr>\n",
       "  </thead>\n",
       "  <tbody>\n",
       "    <tr>\n",
       "      <td>count</td>\n",
       "      <td>5.193670e+05</td>\n",
       "      <td>519367.000000</td>\n",
       "      <td>5.193670e+05</td>\n",
       "      <td>519367.000000</td>\n",
       "      <td>519367.000000</td>\n",
       "      <td>519367.000000</td>\n",
       "      <td>519367.000000</td>\n",
       "      <td>519367.000000</td>\n",
       "      <td>519367.000000</td>\n",
       "    </tr>\n",
       "    <tr>\n",
       "      <td>mean</td>\n",
       "      <td>1.171933e+08</td>\n",
       "      <td>176634.322951</td>\n",
       "      <td>1.664297e+07</td>\n",
       "      <td>4.087279</td>\n",
       "      <td>3.949758</td>\n",
       "      <td>78.495517</td>\n",
       "      <td>1016.565421</td>\n",
       "      <td>100.419041</td>\n",
       "      <td>120.814801</td>\n",
       "    </tr>\n",
       "    <tr>\n",
       "      <td>std</td>\n",
       "      <td>1.542171e+05</td>\n",
       "      <td>12891.317072</td>\n",
       "      <td>7.273705e+06</td>\n",
       "      <td>8.900284</td>\n",
       "      <td>34.329017</td>\n",
       "      <td>121.537938</td>\n",
       "      <td>812.625096</td>\n",
       "      <td>62.369659</td>\n",
       "      <td>96.747680</td>\n",
       "    </tr>\n",
       "    <tr>\n",
       "      <td>min</td>\n",
       "      <td>1.169250e+08</td>\n",
       "      <td>9.000000</td>\n",
       "      <td>9.000000e+00</td>\n",
       "      <td>0.000000</td>\n",
       "      <td>0.000000</td>\n",
       "      <td>0.000000</td>\n",
       "      <td>1.000000</td>\n",
       "      <td>2.000000</td>\n",
       "      <td>0.000000</td>\n",
       "    </tr>\n",
       "    <tr>\n",
       "      <td>25%</td>\n",
       "      <td>1.170620e+08</td>\n",
       "      <td>172330.000000</td>\n",
       "      <td>2.016565e+07</td>\n",
       "      <td>1.200000</td>\n",
       "      <td>0.000000</td>\n",
       "      <td>34.100000</td>\n",
       "      <td>504.000000</td>\n",
       "      <td>51.000000</td>\n",
       "      <td>27.000000</td>\n",
       "    </tr>\n",
       "    <tr>\n",
       "      <td>50%</td>\n",
       "      <td>1.171920e+08</td>\n",
       "      <td>180766.000000</td>\n",
       "      <td>2.017561e+07</td>\n",
       "      <td>3.000000</td>\n",
       "      <td>0.000000</td>\n",
       "      <td>64.500000</td>\n",
       "      <td>749.000000</td>\n",
       "      <td>107.000000</td>\n",
       "      <td>133.000000</td>\n",
       "    </tr>\n",
       "    <tr>\n",
       "      <td>75%</td>\n",
       "      <td>1.173219e+08</td>\n",
       "      <td>183002.000000</td>\n",
       "      <td>2.018301e+07</td>\n",
       "      <td>6.000000</td>\n",
       "      <td>0.000000</td>\n",
       "      <td>99.390000</td>\n",
       "      <td>1422.000000</td>\n",
       "      <td>153.000000</td>\n",
       "      <td>204.000000</td>\n",
       "    </tr>\n",
       "    <tr>\n",
       "      <td>max</td>\n",
       "      <td>1.182120e+08</td>\n",
       "      <td>186208.000000</td>\n",
       "      <td>1.000000e+08</td>\n",
       "      <td>900.000000</td>\n",
       "      <td>9800.000000</td>\n",
       "      <td>9903.610000</td>\n",
       "      <td>14575.000000</td>\n",
       "      <td>501.000000</td>\n",
       "      <td>255.000000</td>\n",
       "    </tr>\n",
       "  </tbody>\n",
       "</table>\n",
       "</div>"
      ],
      "text/plain": [
       "              Index         CardNo         PeoNo          Money  \\\n",
       "count  5.193670e+05  519367.000000  5.193670e+05  519367.000000   \n",
       "mean   1.171933e+08  176634.322951  1.664297e+07       4.087279   \n",
       "std    1.542171e+05   12891.317072  7.273705e+06       8.900284   \n",
       "min    1.169250e+08       9.000000  9.000000e+00       0.000000   \n",
       "25%    1.170620e+08  172330.000000  2.016565e+07       1.200000   \n",
       "50%    1.171920e+08  180766.000000  2.017561e+07       3.000000   \n",
       "75%    1.173219e+08  183002.000000  2.018301e+07       6.000000   \n",
       "max    1.182120e+08  186208.000000  1.000000e+08     900.000000   \n",
       "\n",
       "           FundMoney        Surplus      CardCount         TermNo  \\\n",
       "count  519367.000000  519367.000000  519367.000000  519367.000000   \n",
       "mean        3.949758      78.495517    1016.565421     100.419041   \n",
       "std        34.329017     121.537938     812.625096      62.369659   \n",
       "min         0.000000       0.000000       1.000000       2.000000   \n",
       "25%         0.000000      34.100000     504.000000      51.000000   \n",
       "50%         0.000000      64.500000     749.000000     107.000000   \n",
       "75%         0.000000      99.390000    1422.000000     153.000000   \n",
       "max      9800.000000    9903.610000   14575.000000     501.000000   \n",
       "\n",
       "              OperNo  \n",
       "count  519367.000000  \n",
       "mean      120.814801  \n",
       "std        96.747680  \n",
       "min         0.000000  \n",
       "25%        27.000000  \n",
       "50%       133.000000  \n",
       "75%       204.000000  \n",
       "max       255.000000  "
      ]
     },
     "execution_count": 11,
     "metadata": {},
     "output_type": "execute_result"
    }
   ],
   "source": [
    "##View the data2 descriptive statistics and finally check\n",
    "data2.describe()"
   ]
  },
  {
   "cell_type": "code",
   "execution_count": 12,
   "metadata": {},
   "outputs": [
    {
     "data": {
      "text/html": [
       "<div>\n",
       "<style scoped>\n",
       "    .dataframe tbody tr th:only-of-type {\n",
       "        vertical-align: middle;\n",
       "    }\n",
       "\n",
       "    .dataframe tbody tr th {\n",
       "        vertical-align: top;\n",
       "    }\n",
       "\n",
       "    .dataframe thead th {\n",
       "        text-align: right;\n",
       "    }\n",
       "</style>\n",
       "<table border=\"1\" class=\"dataframe\">\n",
       "  <thead>\n",
       "    <tr style=\"text-align: right;\">\n",
       "      <th></th>\n",
       "      <th>Index</th>\n",
       "      <th>AccessCardNo</th>\n",
       "      <th>Date</th>\n",
       "      <th>Address</th>\n",
       "      <th>Access</th>\n",
       "      <th>Describe</th>\n",
       "    </tr>\n",
       "  </thead>\n",
       "  <tbody>\n",
       "    <tr>\n",
       "      <td>0</td>\n",
       "      <td>1330906</td>\n",
       "      <td>25558880</td>\n",
       "      <td>2019/4/1 0:00</td>\n",
       "      <td>第六教学楼[进门]</td>\n",
       "      <td>1</td>\n",
       "      <td>允许通过</td>\n",
       "    </tr>\n",
       "    <tr>\n",
       "      <td>1</td>\n",
       "      <td>1330907</td>\n",
       "      <td>18413143</td>\n",
       "      <td>2019/4/1 0:02</td>\n",
       "      <td>第六教学楼[出门]</td>\n",
       "      <td>1</td>\n",
       "      <td>允许通过</td>\n",
       "    </tr>\n",
       "    <tr>\n",
       "      <td>2</td>\n",
       "      <td>1331384</td>\n",
       "      <td>11642752</td>\n",
       "      <td>2019/4/1 0:00</td>\n",
       "      <td>飞凤轩[进门]</td>\n",
       "      <td>1</td>\n",
       "      <td>允许通过</td>\n",
       "    </tr>\n",
       "    <tr>\n",
       "      <td>3</td>\n",
       "      <td>1330908</td>\n",
       "      <td>24124155</td>\n",
       "      <td>2019/4/1 0:00</td>\n",
       "      <td>第六教学楼[出门]</td>\n",
       "      <td>1</td>\n",
       "      <td>允许通过</td>\n",
       "    </tr>\n",
       "    <tr>\n",
       "      <td>4</td>\n",
       "      <td>1331385</td>\n",
       "      <td>18629328</td>\n",
       "      <td>2019/4/1 0:11</td>\n",
       "      <td>飞凤轩[进门]</td>\n",
       "      <td>1</td>\n",
       "      <td>允许通过</td>\n",
       "    </tr>\n",
       "  </tbody>\n",
       "</table>\n",
       "</div>"
      ],
      "text/plain": [
       "     Index  AccessCardNo           Date    Address  Access Describe\n",
       "0  1330906      25558880  2019/4/1 0:00  第六教学楼[进门]       1     允许通过\n",
       "1  1330907      18413143  2019/4/1 0:02  第六教学楼[出门]       1     允许通过\n",
       "2  1331384      11642752  2019/4/1 0:00    飞凤轩[进门]       1     允许通过\n",
       "3  1330908      24124155  2019/4/1 0:00  第六教学楼[出门]       1     允许通过\n",
       "4  1331385      18629328  2019/4/1 0:11    飞凤轩[进门]       1     允许通过"
      ]
     },
     "execution_count": 12,
     "metadata": {},
     "output_type": "execute_result"
    }
   ],
   "source": [
    "data3 = pd.read_csv('../data/data3.csv',encoding = 'gbk')\n",
    "\n",
    "data3.head()"
   ]
  },
  {
   "cell_type": "code",
   "execution_count": 13,
   "metadata": {},
   "outputs": [
    {
     "data": {
      "text/html": [
       "<div>\n",
       "<style scoped>\n",
       "    .dataframe tbody tr th:only-of-type {\n",
       "        vertical-align: middle;\n",
       "    }\n",
       "\n",
       "    .dataframe tbody tr th {\n",
       "        vertical-align: top;\n",
       "    }\n",
       "\n",
       "    .dataframe thead th {\n",
       "        text-align: right;\n",
       "    }\n",
       "</style>\n",
       "<table border=\"1\" class=\"dataframe\">\n",
       "  <thead>\n",
       "    <tr style=\"text-align: right;\">\n",
       "      <th></th>\n",
       "      <th>Index</th>\n",
       "      <th>AccessCardNo</th>\n",
       "      <th>Access</th>\n",
       "    </tr>\n",
       "  </thead>\n",
       "  <tbody>\n",
       "    <tr>\n",
       "      <td>count</td>\n",
       "      <td>4.315600e+04</td>\n",
       "      <td>4.315600e+04</td>\n",
       "      <td>43156.000000</td>\n",
       "    </tr>\n",
       "    <tr>\n",
       "      <td>mean</td>\n",
       "      <td>1.352841e+06</td>\n",
       "      <td>1.481472e+07</td>\n",
       "      <td>0.967397</td>\n",
       "    </tr>\n",
       "    <tr>\n",
       "      <td>std</td>\n",
       "      <td>1.257649e+04</td>\n",
       "      <td>7.407105e+06</td>\n",
       "      <td>0.177596</td>\n",
       "    </tr>\n",
       "    <tr>\n",
       "      <td>min</td>\n",
       "      <td>1.330865e+06</td>\n",
       "      <td>1.117000e+04</td>\n",
       "      <td>0.000000</td>\n",
       "    </tr>\n",
       "    <tr>\n",
       "      <td>25%</td>\n",
       "      <td>1.341987e+06</td>\n",
       "      <td>8.510898e+06</td>\n",
       "      <td>1.000000</td>\n",
       "    </tr>\n",
       "    <tr>\n",
       "      <td>50%</td>\n",
       "      <td>1.352776e+06</td>\n",
       "      <td>1.770820e+07</td>\n",
       "      <td>1.000000</td>\n",
       "    </tr>\n",
       "    <tr>\n",
       "      <td>75%</td>\n",
       "      <td>1.363564e+06</td>\n",
       "      <td>2.043321e+07</td>\n",
       "      <td>1.000000</td>\n",
       "    </tr>\n",
       "    <tr>\n",
       "      <td>max</td>\n",
       "      <td>1.377068e+06</td>\n",
       "      <td>2.555888e+07</td>\n",
       "      <td>1.000000</td>\n",
       "    </tr>\n",
       "  </tbody>\n",
       "</table>\n",
       "</div>"
      ],
      "text/plain": [
       "              Index  AccessCardNo        Access\n",
       "count  4.315600e+04  4.315600e+04  43156.000000\n",
       "mean   1.352841e+06  1.481472e+07      0.967397\n",
       "std    1.257649e+04  7.407105e+06      0.177596\n",
       "min    1.330865e+06  1.117000e+04      0.000000\n",
       "25%    1.341987e+06  8.510898e+06      1.000000\n",
       "50%    1.352776e+06  1.770820e+07      1.000000\n",
       "75%    1.363564e+06  2.043321e+07      1.000000\n",
       "max    1.377068e+06  2.555888e+07      1.000000"
      ]
     },
     "execution_count": 13,
     "metadata": {},
     "output_type": "execute_result"
    }
   ],
   "source": [
    "data3.describe()"
   ]
  },
  {
   "cell_type": "code",
   "execution_count": 14,
   "metadata": {},
   "outputs": [
    {
     "data": {
      "text/plain": [
       "Index            int64\n",
       "AccessCardNo     int64\n",
       "Date            object\n",
       "Address         object\n",
       "Access           int64\n",
       "Describe        object\n",
       "dtype: object"
      ]
     },
     "execution_count": 14,
     "metadata": {},
     "output_type": "execute_result"
    }
   ],
   "source": [
    "data3.dtypes"
   ]
  },
  {
   "cell_type": "code",
   "execution_count": 15,
   "metadata": {},
   "outputs": [],
   "source": [
    "data3['Date'] = pd.to_datetime(data3['Date'])"
   ]
  },
  {
   "cell_type": "code",
   "execution_count": 16,
   "metadata": {},
   "outputs": [
    {
     "data": {
      "text/plain": [
       "Index                    int64\n",
       "AccessCardNo             int64\n",
       "Date            datetime64[ns]\n",
       "Address                 object\n",
       "Access                   int64\n",
       "Describe                object\n",
       "dtype: object"
      ]
     },
     "execution_count": 16,
     "metadata": {},
     "output_type": "execute_result"
    }
   ],
   "source": [
    "data3.dtypes"
   ]
  },
  {
   "cell_type": "code",
   "execution_count": 17,
   "metadata": {},
   "outputs": [
    {
     "data": {
      "text/plain": [
       "Index           0\n",
       "AccessCardNo    0\n",
       "Date            0\n",
       "Address         0\n",
       "Access          0\n",
       "Describe        0\n",
       "dtype: int64"
      ]
     },
     "execution_count": 17,
     "metadata": {},
     "output_type": "execute_result"
    }
   ],
   "source": [
    "data3.isnull().sum()"
   ]
  },
  {
   "cell_type": "code",
   "execution_count": 18,
   "metadata": {
    "scrolled": true
   },
   "outputs": [
    {
     "data": {
      "text/html": [
       "<div>\n",
       "<style scoped>\n",
       "    .dataframe tbody tr th:only-of-type {\n",
       "        vertical-align: middle;\n",
       "    }\n",
       "\n",
       "    .dataframe tbody tr th {\n",
       "        vertical-align: top;\n",
       "    }\n",
       "\n",
       "    .dataframe thead th {\n",
       "        text-align: right;\n",
       "    }\n",
       "</style>\n",
       "<table border=\"1\" class=\"dataframe\">\n",
       "  <thead>\n",
       "    <tr style=\"text-align: right;\">\n",
       "      <th></th>\n",
       "      <th>Index</th>\n",
       "      <th>AccessCardNo</th>\n",
       "      <th>Date</th>\n",
       "      <th>Address</th>\n",
       "      <th>Access</th>\n",
       "      <th>Describe</th>\n",
       "    </tr>\n",
       "  </thead>\n",
       "  <tbody>\n",
       "  </tbody>\n",
       "</table>\n",
       "</div>"
      ],
      "text/plain": [
       "Empty DataFrame\n",
       "Columns: [Index, AccessCardNo, Date, Address, Access, Describe]\n",
       "Index: []"
      ]
     },
     "execution_count": 18,
     "metadata": {},
     "output_type": "execute_result"
    }
   ],
   "source": [
    "##Look for duplicate data\n",
    "data1[data1.duplicated()]\n",
    "data2[data2.duplicated()]\n",
    "data3[data3.duplicated()]"
   ]
  },
  {
   "cell_type": "code",
   "execution_count": 19,
   "metadata": {},
   "outputs": [],
   "source": [
    "#Save file\n",
    "\n",
    "data1.to_csv('..\\\\newdata\\\\task1_1_1.csv',encoding='gbk')\n",
    "data2.to_csv('..\\\\newdata\\\\task1_1_2.csv',encoding='gbk')\n",
    "data3.to_csv('..\\\\newdata\\\\task1_1_3.csv',encoding='gbk')"
   ]
  }
 ],
 "metadata": {
  "kernelspec": {
   "display_name": "Python 3",
   "language": "python",
   "name": "python3"
  },
  "language_info": {
   "codemirror_mode": {
    "name": "ipython",
    "version": 3
   },
   "file_extension": ".py",
   "mimetype": "text/x-python",
   "name": "python",
   "nbconvert_exporter": "python",
   "pygments_lexer": "ipython3",
   "version": "3.7.3"
  },
  "toc": {
   "base_numbering": 1,
   "nav_menu": {},
   "number_sections": true,
   "sideBar": true,
   "skip_h1_title": false,
   "title_cell": "Table of Contents",
   "title_sidebar": "Contents",
   "toc_cell": false,
   "toc_position": {},
   "toc_section_display": true,
   "toc_window_display": false
  },
  "varInspector": {
   "cols": {
    "lenName": 16,
    "lenType": 16,
    "lenVar": 40
   },
   "kernels_config": {
    "python": {
     "delete_cmd_postfix": "",
     "delete_cmd_prefix": "del ",
     "library": "var_list.py",
     "varRefreshCmd": "print(var_dic_list())"
    },
    "r": {
     "delete_cmd_postfix": ") ",
     "delete_cmd_prefix": "rm(",
     "library": "var_list.r",
     "varRefreshCmd": "cat(var_dic_list()) "
    }
   },
   "types_to_exclude": [
    "module",
    "function",
    "builtin_function_or_method",
    "instance",
    "_Feature"
   ],
   "window_display": false
  }
 },
 "nbformat": 4,
 "nbformat_minor": 2
}
