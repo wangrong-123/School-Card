{
 "cells": [
  {
   "cell_type": "markdown",
   "metadata": {},
   "source": [
    "# Task 3-3"
   ]
  },
  {
   "cell_type": "code",
   "execution_count": 1,
   "metadata": {},
   "outputs": [],
   "source": [
    "import numpy as np\n",
    "import pandas as pd\n",
    "\n",
    "data = pd.read_csv('../result3/needy_students.csv',encoding='gbk')\n",
    "temp_data = pd.read_csv('../result1/task1_2_2.csv',encoding='gbk')"
   ]
  },
  {
   "cell_type": "code",
   "execution_count": 2,
   "metadata": {},
   "outputs": [],
   "source": [
    "temp_data = temp_data.loc[:,['CardNo','AccessCardNo']]"
   ]
  },
  {
   "cell_type": "code",
   "execution_count": 3,
   "metadata": {},
   "outputs": [
    {
     "data": {
      "text/html": [
       "<div>\n",
       "<style scoped>\n",
       "    .dataframe tbody tr th:only-of-type {\n",
       "        vertical-align: middle;\n",
       "    }\n",
       "\n",
       "    .dataframe tbody tr th {\n",
       "        vertical-align: top;\n",
       "    }\n",
       "\n",
       "    .dataframe thead th {\n",
       "        text-align: right;\n",
       "    }\n",
       "</style>\n",
       "<table border=\"1\" class=\"dataframe\">\n",
       "  <thead>\n",
       "    <tr style=\"text-align: right;\">\n",
       "      <th></th>\n",
       "      <th>CardNo</th>\n",
       "      <th>Count_consumption</th>\n",
       "      <th>Total_consumption</th>\n",
       "      <th>Recent_consumption</th>\n",
       "      <th>tag</th>\n",
       "      <th>AccessCardNo</th>\n",
       "    </tr>\n",
       "  </thead>\n",
       "  <tbody>\n",
       "    <tr>\n",
       "      <td>0</td>\n",
       "      <td>180070</td>\n",
       "      <td>3.001747</td>\n",
       "      <td>1.992159</td>\n",
       "      <td>0.013031</td>\n",
       "      <td>1</td>\n",
       "      <td>20711866</td>\n",
       "    </tr>\n",
       "    <tr>\n",
       "      <td>1</td>\n",
       "      <td>180075</td>\n",
       "      <td>3.132211</td>\n",
       "      <td>0.705889</td>\n",
       "      <td>0.128745</td>\n",
       "      <td>1</td>\n",
       "      <td>18407002</td>\n",
       "    </tr>\n",
       "    <tr>\n",
       "      <td>2</td>\n",
       "      <td>180090</td>\n",
       "      <td>1.379095</td>\n",
       "      <td>1.349024</td>\n",
       "      <td>0.472154</td>\n",
       "      <td>1</td>\n",
       "      <td>20335898</td>\n",
       "    </tr>\n",
       "    <tr>\n",
       "      <td>3</td>\n",
       "      <td>180095</td>\n",
       "      <td>1.370941</td>\n",
       "      <td>1.831376</td>\n",
       "      <td>0.169805</td>\n",
       "      <td>1</td>\n",
       "      <td>20305386</td>\n",
       "    </tr>\n",
       "    <tr>\n",
       "      <td>4</td>\n",
       "      <td>180096</td>\n",
       "      <td>1.372106</td>\n",
       "      <td>1.027456</td>\n",
       "      <td>-1.039594</td>\n",
       "      <td>1</td>\n",
       "      <td>19035098</td>\n",
       "    </tr>\n",
       "  </tbody>\n",
       "</table>\n",
       "</div>"
      ],
      "text/plain": [
       "   CardNo  Count_consumption  Total_consumption  Recent_consumption  tag  \\\n",
       "0  180070           3.001747           1.992159            0.013031    1   \n",
       "1  180075           3.132211           0.705889            0.128745    1   \n",
       "2  180090           1.379095           1.349024            0.472154    1   \n",
       "3  180095           1.370941           1.831376            0.169805    1   \n",
       "4  180096           1.372106           1.027456           -1.039594    1   \n",
       "\n",
       "   AccessCardNo  \n",
       "0      20711866  \n",
       "1      18407002  \n",
       "2      20335898  \n",
       "3      20305386  \n",
       "4      19035098  "
      ]
     },
     "execution_count": 3,
     "metadata": {},
     "output_type": "execute_result"
    }
   ],
   "source": [
    "target_students = pd.merge(data,temp_data,left_on='CardNo',right_on='CardNo',how='left')\n",
    "target_students.head()"
   ]
  },
  {
   "cell_type": "code",
   "execution_count": 4,
   "metadata": {},
   "outputs": [],
   "source": [
    "target_students.to_csv('../result3/target_students.csv')"
   ]
  }
 ],
 "metadata": {
  "kernelspec": {
   "display_name": "Python 3",
   "language": "python",
   "name": "python3"
  },
  "language_info": {
   "codemirror_mode": {
    "name": "ipython",
    "version": 3
   },
   "file_extension": ".py",
   "mimetype": "text/x-python",
   "name": "python",
   "nbconvert_exporter": "python",
   "pygments_lexer": "ipython3",
   "version": "3.7.3"
  },
  "toc": {
   "base_numbering": 1,
   "nav_menu": {},
   "number_sections": true,
   "sideBar": true,
   "skip_h1_title": false,
   "title_cell": "Table of Contents",
   "title_sidebar": "Contents",
   "toc_cell": false,
   "toc_position": {},
   "toc_section_display": true,
   "toc_window_display": false
  },
  "varInspector": {
   "cols": {
    "lenName": 16,
    "lenType": 16,
    "lenVar": 40
   },
   "kernels_config": {
    "python": {
     "delete_cmd_postfix": "",
     "delete_cmd_prefix": "del ",
     "library": "var_list.py",
     "varRefreshCmd": "print(var_dic_list())"
    },
    "r": {
     "delete_cmd_postfix": ") ",
     "delete_cmd_prefix": "rm(",
     "library": "var_list.r",
     "varRefreshCmd": "cat(var_dic_list()) "
    }
   },
   "types_to_exclude": [
    "module",
    "function",
    "builtin_function_or_method",
    "instance",
    "_Feature"
   ],
   "window_display": false
  }
 },
 "nbformat": 4,
 "nbformat_minor": 2
}
